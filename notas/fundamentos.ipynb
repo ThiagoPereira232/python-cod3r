{
  "nbformat": 4,
  "nbformat_minor": 0,
  "metadata": {
    "colab": {
      "name": "fundamentos.ipynb",
      "provenance": []
    },
    "kernelspec": {
      "name": "python3",
      "display_name": "Python 3"
    }
  },
  "cells": [
    {
      "cell_type": "markdown",
      "metadata": {
        "id": "92-RyYMlydCO"
      },
      "source": [
        "# Primeiros Exemplos"
      ]
    },
    {
      "cell_type": "code",
      "metadata": {
        "colab": {
          "base_uri": "https://localhost:8080/"
        },
        "id": "ax0ExgLsyiF9",
        "outputId": "994ddec1-d90b-4a36-9099-5cd7846a3aa6"
      },
      "source": [
        "print('Primeiro exemplo')\n",
        "2 + 3\n",
        "1 \\\n",
        " + 2"
      ],
      "execution_count": null,
      "outputs": [
        {
          "output_type": "stream",
          "text": [
            "Primeiro exemplo\n"
          ],
          "name": "stdout"
        },
        {
          "output_type": "execute_result",
          "data": {
            "text/plain": [
              "3"
            ]
          },
          "metadata": {
            "tags": []
          },
          "execution_count": 3
        }
      ]
    },
    {
      "cell_type": "code",
      "metadata": {
        "colab": {
          "base_uri": "https://localhost:8080/"
        },
        "id": "Ul_wxiOnywAC",
        "outputId": "bc923c91-ab90-4e77-8cc8-036d8213e6f4"
      },
      "source": [
        "help(print)"
      ],
      "execution_count": null,
      "outputs": [
        {
          "output_type": "stream",
          "text": [
            "Help on built-in function print in module builtins:\n",
            "\n",
            "print(...)\n",
            "    print(value, ..., sep=' ', end='\\n', file=sys.stdout, flush=False)\n",
            "    \n",
            "    Prints the values to a stream, or to sys.stdout by default.\n",
            "    Optional keyword arguments:\n",
            "    file:  a file-like object (stream); defaults to the current sys.stdout.\n",
            "    sep:   string inserted between values, default a space.\n",
            "    end:   string appended after the last value, default a newline.\n",
            "    flush: whether to forcibly flush the stream.\n",
            "\n"
          ],
          "name": "stdout"
        }
      ]
    },
    {
      "cell_type": "markdown",
      "metadata": {
        "id": "jtihpl6E3gWn"
      },
      "source": [
        "# Tipos Básicos"
      ]
    },
    {
      "cell_type": "code",
      "metadata": {
        "colab": {
          "base_uri": "https://localhost:8080/"
        },
        "id": "ESegIBmj3jwQ",
        "outputId": "c7b2469e-6747-4094-c3e7-43bff8574524"
      },
      "source": [
        "print(True)\n",
        "print(False)\n",
        "print(1.2 + 1)\n",
        "print('Aqui eu falo minha lingua!')\n",
        "print(\"Texto livre\")\n",
        "print('Você é ' + 3 * 'muito ' + 'legal!')\n",
        "# print(3 + '3') -> ambiguidade\n",
        "print([1, 2, 3])\n",
        "print({'nome': 'thiago', 'idade': 15})\n",
        "print(None)"
      ],
      "execution_count": 11,
      "outputs": [
        {
          "output_type": "stream",
          "text": [
            "True\n",
            "False\n",
            "2.2\n",
            "Aqui eu falo minha lingua!\n",
            "Texto livre\n",
            "Você é muito muito muito legal!\n",
            "[1, 2, 3]\n",
            "{'nome': 'thiago', 'idade': 15}\n"
          ],
          "name": "stdout"
        }
      ]
    },
    {
      "cell_type": "code",
      "metadata": {
        "id": "djT-n_U9BC25"
      },
      "source": [
        ""
      ],
      "execution_count": null,
      "outputs": []
    }
  ]
}